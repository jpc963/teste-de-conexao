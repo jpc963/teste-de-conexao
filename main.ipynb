{
 "cells": [
  {
   "cell_type": "code",
   "execution_count": 34,
   "metadata": {},
   "outputs": [],
   "source": [
    "from selenium import webdriver\n",
    "from selenium.webdriver.chrome.options import Options\n",
    "import pandas as pd\n",
    "from datetime import datetime\n",
    "from time import sleep\n",
    "import numpy as np"
   ]
  },
  {
   "cell_type": "code",
   "execution_count": 80,
   "metadata": {
    "notebookRunGroups": {
     "groupValue": "1"
    }
   },
   "outputs": [],
   "source": [
    "# iniciar o chrome em segundo plano\n",
    "chrome_options = Options()\n",
    "chrome_options.headless = True\n",
    "driver = webdriver.Chrome(options=chrome_options)\n",
    "\n",
    "# acessar o site e aguardar 10 segundos para pegar a velocidade\n",
    "driver.get('https://fast.com/pt/')\n",
    "sleep(6)\n",
    "velocidade = driver.find_element('xpath', '//*[@id=\"speed-value\"]').text\n",
    "\n",
    "# encerrar o chrome\n",
    "driver.quit()"
   ]
  },
  {
   "cell_type": "code",
   "execution_count": 81,
   "metadata": {
    "notebookRunGroups": {
     "groupValue": "1"
    }
   },
   "outputs": [
    {
     "data": {
      "text/html": [
       "<div>\n",
       "<style scoped>\n",
       "    .dataframe tbody tr th:only-of-type {\n",
       "        vertical-align: middle;\n",
       "    }\n",
       "\n",
       "    .dataframe tbody tr th {\n",
       "        vertical-align: top;\n",
       "    }\n",
       "\n",
       "    .dataframe thead th {\n",
       "        text-align: right;\n",
       "    }\n",
       "</style>\n",
       "<table border=\"1\" class=\"dataframe\">\n",
       "  <thead>\n",
       "    <tr style=\"text-align: right;\">\n",
       "      <th></th>\n",
       "      <th>Data</th>\n",
       "      <th>Velocidade</th>\n",
       "    </tr>\n",
       "  </thead>\n",
       "  <tbody>\n",
       "    <tr>\n",
       "      <th>0</th>\n",
       "      <td>19/01/2023 20:13:23</td>\n",
       "      <td>230</td>\n",
       "    </tr>\n",
       "  </tbody>\n",
       "</table>\n",
       "</div>"
      ],
      "text/plain": [
       "                  Data Velocidade\n",
       "0  19/01/2023 20:13:23        230"
      ]
     },
     "execution_count": 81,
     "metadata": {},
     "output_type": "execute_result"
    }
   ],
   "source": [
    "# pegar data e hora atual\n",
    "data = datetime.now().strftime(\"%d/%m/%Y %H:%M:%S\")\n",
    "\n",
    "# criar dataframe com data e velocidade\n",
    "df = pd.read_excel('teste-velocidade.xlsx')\n",
    "df_novo = pd.DataFrame(columns=['Data', 'Velocidade'])\n",
    "df_novo['Data'] = [data]\n",
    "df_novo['Velocidade'] = [velocidade]\n",
    "df_novo"
   ]
  },
  {
   "cell_type": "code",
   "execution_count": 82,
   "metadata": {
    "notebookRunGroups": {
     "groupValue": "1"
    }
   },
   "outputs": [
    {
     "name": "stderr",
     "output_type": "stream",
     "text": [
      "C:\\Users\\joaop\\AppData\\Local\\Temp\\ipykernel_4668\\375808064.py:2: FutureWarning: The frame.append method is deprecated and will be removed from pandas in a future version. Use pandas.concat instead.\n",
      "  df = df.append(df_novo, ignore_index=True)\n"
     ]
    }
   ],
   "source": [
    "# salvar o dataframe em um arquivo excel atualizado\n",
    "df = df.append(df_novo, ignore_index=True)\n",
    "df.to_excel('teste-velocidade.xlsx', index=False)"
   ]
  }
 ],
 "metadata": {
  "kernelspec": {
   "display_name": ".venv",
   "language": "python",
   "name": "python3"
  },
  "language_info": {
   "codemirror_mode": {
    "name": "ipython",
    "version": 3
   },
   "file_extension": ".py",
   "mimetype": "text/x-python",
   "name": "python",
   "nbconvert_exporter": "python",
   "pygments_lexer": "ipython3",
   "version": "3.11.1 (tags/v3.11.1:a7a450f, Dec  6 2022, 19:58:39) [MSC v.1934 64 bit (AMD64)]"
  },
  "orig_nbformat": 4,
  "vscode": {
   "interpreter": {
    "hash": "6e58da00873779985726b517980bbade6de982918264dce22f0e8eae4b4bc7db"
   }
  }
 },
 "nbformat": 4,
 "nbformat_minor": 2
}
